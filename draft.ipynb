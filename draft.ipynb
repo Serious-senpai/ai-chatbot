{
 "cells": [
  {
   "cell_type": "code",
   "execution_count": 1,
   "metadata": {},
   "outputs": [],
   "source": [
    "from ortools.linear_solver import pywraplp\n",
    "solver = pywraplp.Solver.CreateSolver('SCIP')"
   ]
  },
  {
   "cell_type": "code",
   "execution_count": 2,
   "metadata": {},
   "outputs": [],
   "source": [
    "infinity = solver.infinity()\n",
    "x1 = solver.IntVar(0, infinity, 'x1')\n",
    "x2 = solver.IntVar(0, infinity, 'x2')\n",
    "x3 = solver.IntVar(0, infinity, 'x3')\n",
    "x4 = solver.IntVar(0, infinity, 'x4')\n",
    "x5 = solver.IntVar(0, infinity, 'x5')\n",
    "x6 = solver.IntVar(0, infinity, 'x6')"
   ]
  },
  {
   "cell_type": "code",
   "execution_count": 3,
   "metadata": {},
   "outputs": [
    {
     "data": {
      "text/plain": [
       "<ortools.linear_solver.pywraplp.Constraint; proxy of <Swig Object of type 'operations_research::MPConstraint *' at 0x000002BADA977D50> >"
      ]
     },
     "execution_count": 3,
     "metadata": {},
     "output_type": "execute_result"
    }
   ],
   "source": [
    "solver.Add(375 * x1 + 125 * x2 + 187.5 * x3 + 75 * x4 + 25 * x5 + 37.5 * x6 <= 1000)\n",
    "solver.Add(100 * x1 + 25 * x2 + 37.5 * x3 + 20 * x4 + 5 * x5 + 7.5 * x6 <= 300)\n",
    "solver.Add(x1 + x2 + x3 <= 5)\n",
    "solver.Add(x4 + x5 + x6 <= 1)\n"
   ]
  },
  {
   "cell_type": "code",
   "execution_count": 4,
   "metadata": {},
   "outputs": [],
   "source": [
    "solver.Maximize(48000 * x1 + 24000 * x2 + 30000 * x3 + 10000 * x4 + 5000 * x5 + 6250 * x6)"
   ]
  },
  {
   "cell_type": "code",
   "execution_count": 5,
   "metadata": {},
   "outputs": [
    {
     "name": "stdout",
     "output_type": "stream",
     "text": [
      "Solution:\n",
      "Objective value = 156250.0\n",
      "x1 = 0.0\n",
      "x2 = 0.0\n",
      "x3 = 5.0\n",
      "x4 = 0.0\n",
      "x5 = 0.0\n",
      "x6 = 1.0\n"
     ]
    }
   ],
   "source": [
    "status = solver.Solve()\n",
    "if status == pywraplp.Solver.OPTIMAL:\n",
    "    print('Solution:')\n",
    "    print('Objective value =', solver.Objective().Value())\n",
    "    print('x1 =', x1.solution_value())\n",
    "    print('x2 =', x2.solution_value())\n",
    "    print('x3 =', x3.solution_value())\n",
    "    print('x4 =', x4.solution_value())\n",
    "    print('x5 =', x5.solution_value())\n",
    "    print('x6 =', x6.solution_value())\n",
    "else:\n",
    "    print('The problem does not have an optimal solution.')"
   ]
  },
  {
   "cell_type": "code",
   "execution_count": null,
   "metadata": {},
   "outputs": [],
   "source": []
  }
 ],
 "metadata": {
  "kernelspec": {
   "display_name": "py312",
   "language": "python",
   "name": "python3"
  },
  "language_info": {
   "codemirror_mode": {
    "name": "ipython",
    "version": 3
   },
   "file_extension": ".py",
   "mimetype": "text/x-python",
   "name": "python",
   "nbconvert_exporter": "python",
   "pygments_lexer": "ipython3",
   "version": "3.12.9"
  }
 },
 "nbformat": 4,
 "nbformat_minor": 2
}
